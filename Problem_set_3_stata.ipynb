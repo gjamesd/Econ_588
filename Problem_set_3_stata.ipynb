{
  "nbformat": 4,
  "nbformat_minor": 0,
  "metadata": {
    "colab": {
      "name": "Problem_set_3_stata.ipynb",
      "provenance": []
    },
    "kernelspec": {
      "name": "python3",
      "display_name": "Python 3"
    }
  },
  "cells": [
    {
      "cell_type": "code",
      "metadata": {
        "id": "aTSUOxdqnG8L"
      },
      "source": [
        "#importing a bunch of stuff that I may use \n",
        "\n",
        "import pandas as pd\n",
        "import numpy as np\n",
        "import matplotlib.pyplot as plt \n",
        "import statsmodels.api as sm\n",
        "from scipy import stats\n",
        "import warnings; warnings.simplefilter('ignore')"
      ],
      "execution_count": 5,
      "outputs": []
    },
    {
      "cell_type": "markdown",
      "metadata": {
        "id": "qJbxAMzoncBf"
      },
      "source": [
        "##### Question Specs \n",
        "\n",
        "4. Stata exercise.\n",
        "Verify the results of the previous problem by writing a Stata .do-file\n",
        "that does the following:\n",
        "\n",
        "* (a) Generates a fake dataset with a binary x variable and a binary y variable\n",
        "* (b) Estimates Logit, Probit, and OLS coefficients\n",
        "* (c) Compares the differences between the predicted effects of x on the probability of\n",
        "y=1, and verifies that they are identical across the three methods."
      ]
    },
    {
      "cell_type": "code",
      "metadata": {
        "id": "j-sRaBhanXZ-"
      },
      "source": [
        "x_data = np.random.choice([0, 1], size=(50), p=[1/2, 1/2])\n",
        "y_data = np.random.choice([0, 1], size=(50), p=[1/2, 1/2])"
      ],
      "execution_count": 6,
      "outputs": []
    },
    {
      "cell_type": "code",
      "metadata": {
        "id": "2cWIKZVAr_if"
      },
      "source": [
        "rand_df = pd.DataFrame()\n",
        "rand_df['y'] = y_data\n",
        "rand_df['x'] = x_data\n",
        "y1 = rand_df.loc[rand_df.y == 1]"
      ],
      "execution_count": 7,
      "outputs": []
    },
    {
      "cell_type": "code",
      "metadata": {
        "colab": {
          "base_uri": "https://localhost:8080/"
        },
        "id": "NBVC_YRHoA9b",
        "outputId": "1654a11b-3e61-4d0b-9262-38be74990d11"
      },
      "source": [
        "x_data1 = sm.add_constant(x_data)\n",
        "reg_obj = sm.OLS(y_data, x_data)\n",
        "\n",
        "results = reg_obj.fit( )\n",
        "print(results.summary())\n",
        "\n",
        "ols_r = results.resid\n",
        "#print(ols_r)"
      ],
      "execution_count": 20,
      "outputs": [
        {
          "output_type": "stream",
          "text": [
            "                                 OLS Regression Results                                \n",
            "=======================================================================================\n",
            "Dep. Variable:                      y   R-squared (uncentered):                   0.340\n",
            "Model:                            OLS   Adj. R-squared (uncentered):              0.326\n",
            "Method:                 Least Squares   F-statistic:                              25.19\n",
            "Date:                Tue, 02 Mar 2021   Prob (F-statistic):                    7.25e-06\n",
            "Time:                        02:34:38   Log-Likelihood:                         -44.229\n",
            "No. Observations:                  50   AIC:                                      90.46\n",
            "Df Residuals:                      49   BIC:                                      92.37\n",
            "Df Model:                           1                                                  \n",
            "Covariance Type:            nonrobust                                                  \n",
            "==============================================================================\n",
            "                 coef    std err          t      P>|t|      [0.025      0.975]\n",
            "------------------------------------------------------------------------------\n",
            "x1             0.5517      0.110      5.019      0.000       0.331       0.773\n",
            "==============================================================================\n",
            "Omnibus:                       11.395   Durbin-Watson:                   1.566\n",
            "Prob(Omnibus):                  0.003   Jarque-Bera (JB):                2.966\n",
            "Skew:                          -0.029   Prob(JB):                        0.227\n",
            "Kurtosis:                       1.808   Cond. No.                         1.00\n",
            "==============================================================================\n",
            "\n",
            "Warnings:\n",
            "[1] Standard Errors assume that the covariance matrix of the errors is correctly specified.\n"
          ],
          "name": "stdout"
        }
      ]
    },
    {
      "cell_type": "code",
      "metadata": {
        "colab": {
          "base_uri": "https://localhost:8080/"
        },
        "id": "8QwJLVQwuGvN",
        "outputId": "60df6225-503b-4388-fda7-91afa8cb5666"
      },
      "source": [
        "ols_r"
      ],
      "execution_count": 21,
      "outputs": [
        {
          "output_type": "execute_result",
          "data": {
            "text/plain": [
              "array([ 1.        ,  0.        ,  0.        ,  0.44827586,  0.        ,\n",
              "        1.        ,  0.44827586,  0.44827586, -0.55172414, -0.55172414,\n",
              "       -0.55172414,  0.        , -0.55172414, -0.55172414,  0.        ,\n",
              "       -0.55172414,  1.        ,  0.44827586,  1.        ,  0.        ,\n",
              "        1.        , -0.55172414,  1.        ,  1.        ,  0.        ,\n",
              "        0.44827586,  1.        ,  0.        ,  0.44827586, -0.55172414,\n",
              "        0.44827586,  0.44827586,  0.44827586,  1.        , -0.55172414,\n",
              "        0.44827586,  0.44827586,  0.        , -0.55172414, -0.55172414,\n",
              "        0.        ,  0.        , -0.55172414,  0.44827586,  1.        ,\n",
              "        0.44827586,  0.44827586,  0.44827586,  0.44827586, -0.55172414])"
            ]
          },
          "metadata": {
            "tags": []
          },
          "execution_count": 21
        }
      ]
    },
    {
      "cell_type": "code",
      "metadata": {
        "colab": {
          "base_uri": "https://localhost:8080/"
        },
        "id": "xHb1lVxRoBvV",
        "outputId": "d8ae4726-1765-4eda-b8b8-900d6878c638"
      },
      "source": [
        "reg_obj = sm.Logit(y_data, x_data)\n",
        "\n",
        "results = reg_obj.fit()\n",
        "print(results.summary())\n",
        "log_r = results.resid_response\n"
      ],
      "execution_count": 22,
      "outputs": [
        {
          "output_type": "stream",
          "text": [
            "Optimization terminated successfully.\n",
            "         Current function value: 0.690038\n",
            "         Iterations 4\n",
            "                           Logit Regression Results                           \n",
            "==============================================================================\n",
            "Dep. Variable:                      y   No. Observations:                   50\n",
            "Model:                          Logit   Df Residuals:                       49\n",
            "Method:                           MLE   Df Model:                            0\n",
            "Date:                Tue, 02 Mar 2021   Pseudo R-squ.:                0.003335\n",
            "Time:                        02:34:40   Log-Likelihood:                -34.502\n",
            "converged:                       True   LL-Null:                       -34.617\n",
            "Covariance Type:            nonrobust   LLR p-value:                       nan\n",
            "==============================================================================\n",
            "                 coef    std err          z      P>|z|      [0.025      0.975]\n",
            "------------------------------------------------------------------------------\n",
            "x1             0.2076      0.373      0.556      0.578      -0.524       0.939\n",
            "==============================================================================\n"
          ],
          "name": "stdout"
        }
      ]
    },
    {
      "cell_type": "code",
      "metadata": {
        "colab": {
          "base_uri": "https://localhost:8080/"
        },
        "id": "meAsqasHoXAX",
        "outputId": "a5df6a30-8742-4935-c785-64936cb619e9"
      },
      "source": [
        "reg_obj = sm.Probit(y_data, x_data)\n",
        "\n",
        "results = reg_obj.fit()\n",
        "print(results.summary())\n",
        "pro_r = results.resid_response\n"
      ],
      "execution_count": 23,
      "outputs": [
        {
          "output_type": "stream",
          "text": [
            "Optimization terminated successfully.\n",
            "         Current function value: 0.690038\n",
            "         Iterations 3\n",
            "                          Probit Regression Results                           \n",
            "==============================================================================\n",
            "Dep. Variable:                      y   No. Observations:                   50\n",
            "Model:                         Probit   Df Residuals:                       49\n",
            "Method:                           MLE   Df Model:                            0\n",
            "Date:                Tue, 02 Mar 2021   Pseudo R-squ.:                0.003335\n",
            "Time:                        02:34:41   Log-Likelihood:                -34.502\n",
            "converged:                       True   LL-Null:                       -34.617\n",
            "Covariance Type:            nonrobust   LLR p-value:                       nan\n",
            "==============================================================================\n",
            "                 coef    std err          z      P>|z|      [0.025      0.975]\n",
            "------------------------------------------------------------------------------\n",
            "x1             0.1300      0.233      0.557      0.578      -0.328       0.588\n",
            "==============================================================================\n"
          ],
          "name": "stdout"
        }
      ]
    },
    {
      "cell_type": "code",
      "metadata": {
        "id": "E_S51Pseob7D",
        "colab": {
          "base_uri": "https://localhost:8080/"
        },
        "outputId": "50ecd206-649e-4b71-80ce-aa560b8b6d02"
      },
      "source": [
        "#ok now that we have performed each regression, we need to regress the residuals against y \n",
        "#and show we get the same results \n",
        "\n",
        "reg_obj = sm.OLS(y_data, ols_r)\n",
        "\n",
        "results = reg_obj.fit()\n",
        "print(results.summary())"
      ],
      "execution_count": 24,
      "outputs": [
        {
          "output_type": "stream",
          "text": [
            "                                 OLS Regression Results                                \n",
            "=======================================================================================\n",
            "Dep. Variable:                      y   R-squared (uncentered):                   0.660\n",
            "Model:                            OLS   Adj. R-squared (uncentered):              0.654\n",
            "Method:                 Least Squares   F-statistic:                              95.32\n",
            "Date:                Tue, 02 Mar 2021   Prob (F-statistic):                    4.43e-13\n",
            "Time:                        02:34:41   Log-Likelihood:                         -27.593\n",
            "No. Observations:                  50   AIC:                                      57.19\n",
            "Df Residuals:                      49   BIC:                                      59.10\n",
            "Df Model:                           1                                                  \n",
            "Covariance Type:            nonrobust                                                  \n",
            "==============================================================================\n",
            "                 coef    std err          t      P>|t|      [0.025      0.975]\n",
            "------------------------------------------------------------------------------\n",
            "x1             1.0000      0.102      9.763      0.000       0.794       1.206\n",
            "==============================================================================\n",
            "Omnibus:                     1456.080   Durbin-Watson:                   0.793\n",
            "Prob(Omnibus):                  0.000   Jarque-Bera (JB):                8.356\n",
            "Skew:                          -0.324   Prob(JB):                       0.0153\n",
            "Kurtosis:                       1.105   Cond. No.                         1.00\n",
            "==============================================================================\n",
            "\n",
            "Warnings:\n",
            "[1] Standard Errors assume that the covariance matrix of the errors is correctly specified.\n"
          ],
          "name": "stdout"
        }
      ]
    },
    {
      "cell_type": "code",
      "metadata": {
        "colab": {
          "base_uri": "https://localhost:8080/"
        },
        "id": "GegBWsjXttZx",
        "outputId": "9a29fa3d-cf65-497d-a5a4-aa902c0d69d1"
      },
      "source": [
        "reg_obj = sm.OLS(y_data, log_r)\n",
        "\n",
        "results = reg_obj.fit()\n",
        "print(results.summary())"
      ],
      "execution_count": 25,
      "outputs": [
        {
          "output_type": "stream",
          "text": [
            "                                 OLS Regression Results                                \n",
            "=======================================================================================\n",
            "Dep. Variable:                      y   R-squared (uncentered):                   0.459\n",
            "Model:                            OLS   Adj. R-squared (uncentered):              0.448\n",
            "Method:                 Least Squares   F-statistic:                              41.53\n",
            "Date:                Tue, 02 Mar 2021   Prob (F-statistic):                    4.81e-08\n",
            "Time:                        02:34:46   Log-Likelihood:                         -39.252\n",
            "No. Observations:                  50   AIC:                                      80.50\n",
            "Df Residuals:                      49   BIC:                                      82.42\n",
            "Df Model:                           1                                                  \n",
            "Covariance Type:            nonrobust                                                  \n",
            "==============================================================================\n",
            "                 coef    std err          t      P>|t|      [0.025      0.975]\n",
            "------------------------------------------------------------------------------\n",
            "x1             0.9799      0.152      6.444      0.000       0.674       1.285\n",
            "==============================================================================\n",
            "Omnibus:                       40.735   Durbin-Watson:                   0.005\n",
            "Prob(Omnibus):                  0.000   Jarque-Bera (JB):                5.216\n",
            "Skew:                          -0.268   Prob(JB):                       0.0737\n",
            "Kurtosis:                       1.511   Cond. No.                         1.00\n",
            "==============================================================================\n",
            "\n",
            "Warnings:\n",
            "[1] Standard Errors assume that the covariance matrix of the errors is correctly specified.\n"
          ],
          "name": "stdout"
        }
      ]
    },
    {
      "cell_type": "code",
      "metadata": {
        "id": "Fq7bGiH5tzaK",
        "colab": {
          "base_uri": "https://localhost:8080/"
        },
        "outputId": "fcc5cc32-f7fa-481b-ad6f-f09a9b7a1428"
      },
      "source": [
        "reg_obj = sm.OLS(y_data, pro_r)\n",
        "results = reg_obj.fit()\n",
        "print(results.summary())"
      ],
      "execution_count": 26,
      "outputs": [
        {
          "output_type": "stream",
          "text": [
            "                                 OLS Regression Results                                \n",
            "=======================================================================================\n",
            "Dep. Variable:                      y   R-squared (uncentered):                   0.459\n",
            "Model:                            OLS   Adj. R-squared (uncentered):              0.448\n",
            "Method:                 Least Squares   F-statistic:                              41.53\n",
            "Date:                Tue, 02 Mar 2021   Prob (F-statistic):                    4.81e-08\n",
            "Time:                        02:34:47   Log-Likelihood:                         -39.252\n",
            "No. Observations:                  50   AIC:                                      80.50\n",
            "Df Residuals:                      49   BIC:                                      82.42\n",
            "Df Model:                           1                                                  \n",
            "Covariance Type:            nonrobust                                                  \n",
            "==============================================================================\n",
            "                 coef    std err          t      P>|t|      [0.025      0.975]\n",
            "------------------------------------------------------------------------------\n",
            "x1             0.9799      0.152      6.444      0.000       0.674       1.285\n",
            "==============================================================================\n",
            "Omnibus:                       40.735   Durbin-Watson:                   0.005\n",
            "Prob(Omnibus):                  0.000   Jarque-Bera (JB):                5.216\n",
            "Skew:                          -0.268   Prob(JB):                       0.0737\n",
            "Kurtosis:                       1.511   Cond. No.                         1.00\n",
            "==============================================================================\n",
            "\n",
            "Warnings:\n",
            "[1] Standard Errors assume that the covariance matrix of the errors is correctly specified.\n"
          ],
          "name": "stdout"
        }
      ]
    },
    {
      "cell_type": "code",
      "metadata": {
        "id": "ZxKoAMN8yMsI"
      },
      "source": [
        ""
      ],
      "execution_count": null,
      "outputs": []
    }
  ]
}